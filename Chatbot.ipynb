{
 "cells": [
  {
   "cell_type": "markdown",
   "metadata": {},
   "source": [
    "## 1. Preparing Data"
   ]
  },
  {
   "cell_type": "code",
   "execution_count": 52,
   "metadata": {},
   "outputs": [],
   "source": [
    "import pandas as pd\n",
    "import numpy as np\n",
    "import nltk"
   ]
  },
  {
   "cell_type": "code",
   "execution_count": 53,
   "metadata": {},
   "outputs": [],
   "source": [
    "data = pd.read_csv('./data/data.csv')"
   ]
  },
  {
   "cell_type": "code",
   "execution_count": 54,
   "metadata": {},
   "outputs": [
    {
     "data": {
      "text/html": [
       "<div>\n",
       "<style scoped>\n",
       "    .dataframe tbody tr th:only-of-type {\n",
       "        vertical-align: middle;\n",
       "    }\n",
       "\n",
       "    .dataframe tbody tr th {\n",
       "        vertical-align: top;\n",
       "    }\n",
       "\n",
       "    .dataframe thead th {\n",
       "        text-align: right;\n",
       "    }\n",
       "</style>\n",
       "<table border=\"1\" class=\"dataframe\">\n",
       "  <thead>\n",
       "    <tr style=\"text-align: right;\">\n",
       "      <th></th>\n",
       "      <th>Query</th>\n",
       "      <th>Action</th>\n",
       "    </tr>\n",
       "  </thead>\n",
       "  <tbody>\n",
       "    <tr>\n",
       "      <th>0</th>\n",
       "      <td>What is the price for the event?</td>\n",
       "      <td>get_event_fees</td>\n",
       "    </tr>\n",
       "    <tr>\n",
       "      <th>1</th>\n",
       "      <td>Due to unavoidable reasons I'm unable to atten...</td>\n",
       "      <td>is_refundable</td>\n",
       "    </tr>\n",
       "    <tr>\n",
       "      <th>2</th>\n",
       "      <td>When is the deadline to make the payment?</td>\n",
       "      <td>get_registration_date</td>\n",
       "    </tr>\n",
       "    <tr>\n",
       "      <th>3</th>\n",
       "      <td>How much does it cost to register for the event?</td>\n",
       "      <td>get_event_fees</td>\n",
       "    </tr>\n",
       "    <tr>\n",
       "      <th>4</th>\n",
       "      <td>Do you have any online payment options for the...</td>\n",
       "      <td>get_payment_method</td>\n",
       "    </tr>\n",
       "  </tbody>\n",
       "</table>\n",
       "</div>"
      ],
      "text/plain": [
       "                                               Query                 Action\n",
       "0                   What is the price for the event?         get_event_fees\n",
       "1  Due to unavoidable reasons I'm unable to atten...          is_refundable\n",
       "2          When is the deadline to make the payment?  get_registration_date\n",
       "3   How much does it cost to register for the event?         get_event_fees\n",
       "4  Do you have any online payment options for the...     get_payment_method"
      ]
     },
     "execution_count": 54,
     "metadata": {},
     "output_type": "execute_result"
    }
   ],
   "source": [
    "data.head()"
   ]
  },
  {
   "cell_type": "code",
   "execution_count": 55,
   "metadata": {},
   "outputs": [],
   "source": [
    "from Text import TextAugmentor as ta\n",
    "import time"
   ]
  },
  {
   "cell_type": "code",
   "execution_count": 56,
   "metadata": {},
   "outputs": [],
   "source": [
    "data_aug = pd.DataFrame(columns=['Query','Action'])\n",
    "querys={}"
   ]
  },
  {
   "cell_type": "code",
   "execution_count": 57,
   "metadata": {},
   "outputs": [],
   "source": [
    "def augmenting(sen,ele):\n",
    "    augmentor = ta(sen)\n",
    "    augmentor.GenerateSentences()\n",
    "    \n",
    "    for item in augmentor.generated_sentences:\n",
    "        querys[item]=ele"
   ]
  },
  {
   "cell_type": "code",
   "execution_count": 58,
   "metadata": {},
   "outputs": [],
   "source": [
    "count=0\n",
    "for sen in zip(data['Query'],data['Action']):\n",
    "    #try:\n",
    "        count += 1\n",
    "        if count%25 == 0:\n",
    "            time.sleep(120)\n",
    "        augmenting(sen[0],sen[1])\n",
    "    #except:\n",
    "     #   print(count)"
   ]
  },
  {
   "cell_type": "code",
   "execution_count": 61,
   "metadata": {},
   "outputs": [],
   "source": [
    "for key, value in querys.items():\n",
    "    data = data.append(pd.DataFrame([list((key,value))],columns=['Query','Action']))"
   ]
  },
  {
   "cell_type": "code",
   "execution_count": 62,
   "metadata": {},
   "outputs": [
    {
     "name": "stdout",
     "output_type": "stream",
     "text": [
      "<class 'pandas.core.frame.DataFrame'>\n",
      "Int64Index: 558 entries, 0 to 0\n",
      "Data columns (total 2 columns):\n",
      "Query     558 non-null object\n",
      "Action    549 non-null object\n",
      "dtypes: object(2)\n",
      "memory usage: 13.1+ KB\n"
     ]
    }
   ],
   "source": [
    "data.info()"
   ]
  },
  {
   "cell_type": "code",
   "execution_count": 63,
   "metadata": {},
   "outputs": [],
   "source": [
    "vocab = []\n",
    "\n",
    "for index,row in data.iterrows():\n",
    "    \n",
    "    tokens = nltk.word_tokenize(row['Query'])\n",
    "    for i in tokens :\n",
    "        \n",
    "        if i not in vocab:\n",
    "            \n",
    "            vocab.append(i)\n",
    "vocab.append('UNK') #Unknown token\n",
    "vocab.append('PAD') #Pad token"
   ]
  },
  {
   "cell_type": "code",
   "execution_count": 64,
   "metadata": {},
   "outputs": [
    {
     "name": "stdout",
     "output_type": "stream",
     "text": [
      "Number of unique tokens: 457\n"
     ]
    }
   ],
   "source": [
    "n_words = len(vocab)\n",
    "print(\"Number of unique tokens: \" + str(n_words))"
   ]
  },
  {
   "cell_type": "code",
   "execution_count": 65,
   "metadata": {},
   "outputs": [],
   "source": [
    "actions = list(data['Action'].unique())"
   ]
  },
  {
   "cell_type": "code",
   "execution_count": 66,
   "metadata": {},
   "outputs": [
    {
     "name": "stdout",
     "output_type": "stream",
     "text": [
      "['get_event_fees', 'is_refundable', 'get_registration_date', 'get_payment_method', 'get_prizes', 'get_discounts', nan, 'show_schedule', 'get_event_date', 'get_event_time', 'get_event_domain', 'show_accomodation', 'show_speakers', 'speaker_details_extra', 'show_speakers_count', 'show_speakers_details', 'show_speaker_details', 'show_food_arrangements', 'show_food_cost', 'show_accomodation_address', 'get_distance', 'show_accomodation_price']\n",
      "Number of unique actions : 22\n"
     ]
    }
   ],
   "source": [
    "print(actions)\n",
    "n_actions = len(actions)\n",
    "print(\"Number of unique actions : \" + str(n_actions))"
   ]
  },
  {
   "cell_type": "code",
   "execution_count": 67,
   "metadata": {},
   "outputs": [],
   "source": [
    "action_index_1 = {}\n",
    "action_index_2 = {}\n",
    "\n",
    "for i,v in enumerate(actions):\n",
    "    action_index_1[i] = v\n",
    "    action_index_2[v] = i"
   ]
  },
  {
   "cell_type": "code",
   "execution_count": 68,
   "metadata": {},
   "outputs": [],
   "source": [
    "def get_categorical_array(action):\n",
    "    \n",
    "    z = np.zeros(n_actions)\n",
    "    z[action_index_2[action]] = 1\n",
    "    \n",
    "    return z"
   ]
  },
  {
   "cell_type": "code",
   "execution_count": 69,
   "metadata": {},
   "outputs": [
    {
     "name": "stdout",
     "output_type": "stream",
     "text": [
      "[0. 1. 0. 0. 0. 0. 0. 0. 0. 0. 0. 0. 0. 0. 0. 0. 0. 0. 0. 0. 0. 0.]\n"
     ]
    }
   ],
   "source": [
    "print(get_categorical_array('is_refundable'))"
   ]
  },
  {
   "cell_type": "code",
   "execution_count": 70,
   "metadata": {},
   "outputs": [],
   "source": [
    "def get_embed_matrix(sentence):\n",
    "    \n",
    "    embeds = []\n",
    "    tokens = nltk.word_tokenize(sentence)\n",
    "    \n",
    "    for i in tokens:\n",
    "        \n",
    "        if i in vocab:\n",
    "            \n",
    "            n = vocab.index(i)\n",
    "        else :\n",
    "            \n",
    "            n = vocab.index('UNK')\n",
    "        embeds.append(n)\n",
    "    return np.array(embeds)"
   ]
  },
  {
   "cell_type": "code",
   "execution_count": 71,
   "metadata": {},
   "outputs": [
    {
     "name": "stdout",
     "output_type": "stream",
     "text": [
      "[  0 116   1   2   5   6]\n"
     ]
    }
   ],
   "source": [
    "print(get_embed_matrix('What time is the event?'))"
   ]
  },
  {
   "cell_type": "code",
   "execution_count": 72,
   "metadata": {},
   "outputs": [],
   "source": [
    "X = []\n",
    "Y = []\n",
    "\n",
    "for index,row in data.iterrows():\n",
    "    \n",
    "    X.append(get_embed_matrix(row['Query']))\n",
    "    Y.append(get_categorical_array(row['Action']))\n",
    "X = np.array(X)\n",
    "Y = np.array(Y)"
   ]
  },
  {
   "cell_type": "code",
   "execution_count": 73,
   "metadata": {},
   "outputs": [
    {
     "ename": "ImportError",
     "evalue": "No module named 'keras'",
     "output_type": "error",
     "traceback": [
      "\u001b[1;31m---------------------------------------------------------------------------\u001b[0m",
      "\u001b[1;31mImportError\u001b[0m                               Traceback (most recent call last)",
      "\u001b[1;32m<ipython-input-73-b76f5ec0cad6>\u001b[0m in \u001b[0;36m<module>\u001b[1;34m()\u001b[0m\n\u001b[1;32m----> 1\u001b[1;33m \u001b[1;32mfrom\u001b[0m \u001b[0mkeras\u001b[0m\u001b[1;33m.\u001b[0m\u001b[0mpreprocessing\u001b[0m\u001b[1;33m.\u001b[0m\u001b[0msequence\u001b[0m \u001b[1;32mimport\u001b[0m \u001b[0mpad_sequences\u001b[0m\u001b[1;33m\u001b[0m\u001b[0m\n\u001b[0m\u001b[0;32m      2\u001b[0m \u001b[0mX\u001b[0m \u001b[1;33m=\u001b[0m \u001b[0mpad_sequences\u001b[0m\u001b[1;33m(\u001b[0m\u001b[0mmaxlen\u001b[0m\u001b[1;33m=\u001b[0m\u001b[1;36m18\u001b[0m\u001b[1;33m,\u001b[0m \u001b[0msequences\u001b[0m\u001b[1;33m=\u001b[0m\u001b[0mX\u001b[0m\u001b[1;33m,\u001b[0m \u001b[0mpadding\u001b[0m\u001b[1;33m=\u001b[0m\u001b[1;34m\"post\"\u001b[0m\u001b[1;33m,\u001b[0m \u001b[0mvalue\u001b[0m\u001b[1;33m=\u001b[0m\u001b[0mvocab\u001b[0m\u001b[1;33m.\u001b[0m\u001b[0mindex\u001b[0m\u001b[1;33m(\u001b[0m\u001b[1;34m'PAD'\u001b[0m\u001b[1;33m)\u001b[0m\u001b[1;33m)\u001b[0m\u001b[1;33m\u001b[0m\u001b[0m\n",
      "\u001b[1;31mImportError\u001b[0m: No module named 'keras'"
     ]
    }
   ],
   "source": [
    "from keras.preprocessing.sequence import pad_sequences\n",
    "X = pad_sequences(maxlen=18, sequences=X, padding=\"post\", value=vocab.index('PAD'))"
   ]
  },
  {
   "cell_type": "code",
   "execution_count": 15,
   "metadata": {},
   "outputs": [
    {
     "name": "stdout",
     "output_type": "stream",
     "text": [
      "[ 7  8  9 10 11 12 13  8 14  2  5 15 16 11 17 18 19  6]\n",
      "[0. 1. 0. 0. 0. 0. 0. 0. 0. 0. 0. 0. 0. 0. 0. 0. 0. 0. 0. 0. 0. 0.]\n"
     ]
    }
   ],
   "source": [
    "print(X[1])\n",
    "print(Y[1])"
   ]
  },
  {
   "cell_type": "markdown",
   "metadata": {},
   "source": [
    "## 2. Training Model"
   ]
  },
  {
   "cell_type": "code",
   "execution_count": null,
   "metadata": {},
   "outputs": [],
   "source": [
    "# Uncomment this to load the model if you don't wish to train\n",
    "# Make sure you comment out the training part if you are uncommenting this block\n",
    "\n",
    "# json_file = open('Model/model.json', 'r')\n",
    "# loaded_model_json = json_file.read()\n",
    "# json_file.close()\n",
    "# model = model_from_json(loaded_model_json)\n",
    "# # load weights into new model\n",
    "# model.load_weights(\"Model/model.h5\")\n",
    "# print(\"Loaded model from disk\")"
   ]
  },
  {
   "cell_type": "code",
   "execution_count": 16,
   "metadata": {},
   "outputs": [],
   "source": [
    "from keras.models import Sequential\n",
    "from keras.layers import Dense, Embedding, LSTM, Bidirectional"
   ]
  },
  {
   "cell_type": "code",
   "execution_count": 17,
   "metadata": {},
   "outputs": [],
   "source": [
    "model = Sequential()\n",
    "model.add(Embedding(input_dim=n_words, output_dim=15, input_length=18))\n",
    "model.add(Bidirectional(LSTM(units=25, recurrent_dropout=0.2)))\n",
    "model.add(Dense(n_actions,activation='softmax'))\n",
    "\n",
    "model.compile(optimizer=\"adam\", loss=\"categorical_crossentropy\", metrics=[\"accuracy\"])"
   ]
  },
  {
   "cell_type": "code",
   "execution_count": 18,
   "metadata": {},
   "outputs": [
    {
     "name": "stdout",
     "output_type": "stream",
     "text": [
      "_________________________________________________________________\n",
      "Layer (type)                 Output Shape              Param #   \n",
      "=================================================================\n",
      "embedding_1 (Embedding)      (None, 18, 15)            3840      \n",
      "_________________________________________________________________\n",
      "bidirectional_1 (Bidirection (None, 50)                8200      \n",
      "_________________________________________________________________\n",
      "dense_1 (Dense)              (None, 22)                1122      \n",
      "=================================================================\n",
      "Total params: 13,162\n",
      "Trainable params: 13,162\n",
      "Non-trainable params: 0\n",
      "_________________________________________________________________\n",
      "None\n"
     ]
    }
   ],
   "source": [
    "print(model.summary())"
   ]
  },
  {
   "cell_type": "code",
   "execution_count": 19,
   "metadata": {},
   "outputs": [
    {
     "name": "stdout",
     "output_type": "stream",
     "text": [
      "Epoch 1/75\n",
      "113/113 [==============================] - 4s 37ms/step - loss: 3.0533 - acc: 0.1416\n",
      "Epoch 2/75\n",
      "113/113 [==============================] - 2s 21ms/step - loss: 2.8112 - acc: 0.1593\n",
      "Epoch 3/75\n",
      "113/113 [==============================] - 2s 21ms/step - loss: 2.6855 - acc: 0.1593\n",
      "Epoch 4/75\n",
      "113/113 [==============================] - 2s 21ms/step - loss: 2.6325 - acc: 0.1593\n",
      "Epoch 5/75\n",
      "113/113 [==============================] - 2s 21ms/step - loss: 2.5641 - acc: 0.1947\n",
      "Epoch 6/75\n",
      "113/113 [==============================] - 2s 21ms/step - loss: 2.4161 - acc: 0.2035\n",
      "Epoch 7/75\n",
      "113/113 [==============================] - 2s 21ms/step - loss: 2.2482 - acc: 0.2389\n",
      "Epoch 8/75\n",
      "113/113 [==============================] - 2s 21ms/step - loss: 2.1490 - acc: 0.3540\n",
      "Epoch 9/75\n",
      "113/113 [==============================] - 2s 21ms/step - loss: 2.0488 - acc: 0.3363\n",
      "Epoch 10/75\n",
      "113/113 [==============================] - 2s 21ms/step - loss: 1.8989 - acc: 0.3628\n",
      "Epoch 11/75\n",
      "113/113 [==============================] - 2s 21ms/step - loss: 1.7340 - acc: 0.4513\n",
      "Epoch 12/75\n",
      "113/113 [==============================] - 2s 21ms/step - loss: 1.6184 - acc: 0.4867\n",
      "Epoch 13/75\n",
      "113/113 [==============================] - 2s 21ms/step - loss: 1.4994 - acc: 0.6018\n",
      "Epoch 14/75\n",
      "113/113 [==============================] - 2s 21ms/step - loss: 1.4422 - acc: 0.5929\n",
      "Epoch 15/75\n",
      "113/113 [==============================] - 2s 21ms/step - loss: 1.3551 - acc: 0.6637\n",
      "Epoch 16/75\n",
      "113/113 [==============================] - 3s 23ms/step - loss: 1.2526 - acc: 0.6460\n",
      "Epoch 17/75\n",
      "113/113 [==============================] - 2s 21ms/step - loss: 1.2034 - acc: 0.6637\n",
      "Epoch 18/75\n",
      "113/113 [==============================] - 2s 21ms/step - loss: 1.1267 - acc: 0.6991\n",
      "Epoch 19/75\n",
      "113/113 [==============================] - 2s 21ms/step - loss: 1.0413 - acc: 0.6991\n",
      "Epoch 20/75\n",
      "113/113 [==============================] - 2s 21ms/step - loss: 0.9602 - acc: 0.7611\n",
      "Epoch 21/75\n",
      "113/113 [==============================] - 2s 21ms/step - loss: 0.9561 - acc: 0.7699\n",
      "Epoch 22/75\n",
      "113/113 [==============================] - 3s 25ms/step - loss: 0.9009 - acc: 0.7611\n",
      "Epoch 23/75\n",
      "113/113 [==============================] - 3s 24ms/step - loss: 0.8581 - acc: 0.8053\n",
      "Epoch 24/75\n",
      "113/113 [==============================] - 3s 24ms/step - loss: 0.7922 - acc: 0.7965\n",
      "Epoch 25/75\n",
      "113/113 [==============================] - 3s 26ms/step - loss: 0.7259 - acc: 0.8142\n",
      "Epoch 26/75\n",
      "113/113 [==============================] - 3s 24ms/step - loss: 0.7424 - acc: 0.7876\n",
      "Epoch 27/75\n",
      "113/113 [==============================] - 2s 22ms/step - loss: 0.6747 - acc: 0.8142\n",
      "Epoch 28/75\n",
      "113/113 [==============================] - 3s 23ms/step - loss: 0.6628 - acc: 0.8496\n",
      "Epoch 29/75\n",
      "113/113 [==============================] - 2s 21ms/step - loss: 0.6195 - acc: 0.8407\n",
      "Epoch 30/75\n",
      "113/113 [==============================] - 2s 22ms/step - loss: 0.5658 - acc: 0.8938\n",
      "Epoch 31/75\n",
      "113/113 [==============================] - 2s 22ms/step - loss: 0.5407 - acc: 0.8673\n",
      "Epoch 32/75\n",
      "113/113 [==============================] - 2s 22ms/step - loss: 0.5050 - acc: 0.9204\n",
      "Epoch 33/75\n",
      "113/113 [==============================] - 2s 21ms/step - loss: 0.4850 - acc: 0.9115\n",
      "Epoch 34/75\n",
      "113/113 [==============================] - 2s 22ms/step - loss: 0.4825 - acc: 0.9292\n",
      "Epoch 35/75\n",
      "113/113 [==============================] - 2s 21ms/step - loss: 0.4199 - acc: 0.9115\n",
      "Epoch 36/75\n",
      "113/113 [==============================] - 2s 22ms/step - loss: 0.4369 - acc: 0.9027\n",
      "Epoch 37/75\n",
      "113/113 [==============================] - 2s 22ms/step - loss: 0.3703 - acc: 0.9646\n",
      "Epoch 38/75\n",
      "113/113 [==============================] - 2s 21ms/step - loss: 0.3467 - acc: 0.9292\n",
      "Epoch 39/75\n",
      "113/113 [==============================] - 2s 22ms/step - loss: 0.3270 - acc: 0.9381\n",
      "Epoch 40/75\n",
      "113/113 [==============================] - 2s 22ms/step - loss: 0.3642 - acc: 0.9115\n",
      "Epoch 41/75\n",
      "113/113 [==============================] - 2s 22ms/step - loss: 0.2648 - acc: 0.9558\n",
      "Epoch 42/75\n",
      "113/113 [==============================] - 2s 21ms/step - loss: 0.2828 - acc: 0.9469\n",
      "Epoch 43/75\n",
      "113/113 [==============================] - 3s 24ms/step - loss: 0.2580 - acc: 0.9646\n",
      "Epoch 44/75\n",
      "113/113 [==============================] - 2s 22ms/step - loss: 0.2479 - acc: 0.9823\n",
      "Epoch 45/75\n",
      "113/113 [==============================] - 3s 22ms/step - loss: 0.2545 - acc: 0.9558\n",
      "Epoch 46/75\n",
      "113/113 [==============================] - 2s 22ms/step - loss: 0.2766 - acc: 0.9646\n",
      "Epoch 47/75\n",
      "113/113 [==============================] - 2s 21ms/step - loss: 0.2233 - acc: 0.9823\n",
      "Epoch 48/75\n",
      "113/113 [==============================] - 2s 22ms/step - loss: 0.2353 - acc: 0.9558\n",
      "Epoch 49/75\n",
      "113/113 [==============================] - 3s 22ms/step - loss: 0.1988 - acc: 0.9823\n",
      "Epoch 50/75\n",
      "113/113 [==============================] - 2s 22ms/step - loss: 0.2326 - acc: 0.9646\n",
      "Epoch 51/75\n",
      "113/113 [==============================] - 2s 22ms/step - loss: 0.2428 - acc: 0.9469\n",
      "Epoch 52/75\n",
      "113/113 [==============================] - 2s 22ms/step - loss: 0.1739 - acc: 0.9735\n",
      "Epoch 53/75\n",
      "113/113 [==============================] - 3s 24ms/step - loss: 0.1539 - acc: 0.9912\n",
      "Epoch 54/75\n",
      "113/113 [==============================] - 3s 26ms/step - loss: 0.1488 - acc: 0.9912\n",
      "Epoch 55/75\n",
      "113/113 [==============================] - 3s 23ms/step - loss: 0.1444 - acc: 0.9735\n",
      "Epoch 56/75\n",
      "113/113 [==============================] - 2s 22ms/step - loss: 0.1211 - acc: 0.9912\n",
      "Epoch 57/75\n",
      "113/113 [==============================] - 3s 24ms/step - loss: 0.1139 - acc: 0.9823\n",
      "Epoch 58/75\n",
      "113/113 [==============================] - 3s 24ms/step - loss: 0.1244 - acc: 0.9735\n",
      "Epoch 59/75\n",
      "113/113 [==============================] - 3s 23ms/step - loss: 0.1317 - acc: 0.9646\n",
      "Epoch 60/75\n",
      "113/113 [==============================] - 3s 23ms/step - loss: 0.1159 - acc: 0.9735\n",
      "Epoch 61/75\n",
      "113/113 [==============================] - 3s 23ms/step - loss: 0.1132 - acc: 0.9823\n",
      "Epoch 62/75\n",
      "113/113 [==============================] - 3s 23ms/step - loss: 0.0912 - acc: 0.9823\n",
      "Epoch 63/75\n",
      "113/113 [==============================] - 3s 22ms/step - loss: 0.1150 - acc: 0.9735\n",
      "Epoch 64/75\n",
      "113/113 [==============================] - 3s 22ms/step - loss: 0.0877 - acc: 0.9912\n",
      "Epoch 65/75\n",
      "113/113 [==============================] - 3s 22ms/step - loss: 0.0805 - acc: 0.9912\n",
      "Epoch 66/75\n",
      "113/113 [==============================] - 3s 23ms/step - loss: 0.0719 - acc: 0.9912\n",
      "Epoch 67/75\n",
      "113/113 [==============================] - 3s 23ms/step - loss: 0.0898 - acc: 0.9823\n",
      "Epoch 68/75\n",
      "113/113 [==============================] - 3s 23ms/step - loss: 0.0884 - acc: 0.9823\n",
      "Epoch 69/75\n",
      "113/113 [==============================] - 3s 24ms/step - loss: 0.0734 - acc: 0.9912\n",
      "Epoch 70/75\n",
      "113/113 [==============================] - 3s 26ms/step - loss: 0.0762 - acc: 0.9823\n",
      "Epoch 71/75\n",
      "113/113 [==============================] - 3s 23ms/step - loss: 0.0689 - acc: 0.9912\n",
      "Epoch 72/75\n",
      "113/113 [==============================] - 3s 23ms/step - loss: 0.0590 - acc: 0.9912\n",
      "Epoch 73/75\n",
      "113/113 [==============================] - 3s 26ms/step - loss: 0.0646 - acc: 0.9912\n",
      "Epoch 74/75\n",
      "113/113 [==============================] - 3s 23ms/step - loss: 0.0637 - acc: 0.9823\n",
      "Epoch 75/75\n",
      "113/113 [==============================] - 3s 23ms/step - loss: 0.0591 - acc: 0.9823\n"
     ]
    },
    {
     "data": {
      "text/plain": [
       "<keras.callbacks.History at 0x7f59919d8b38>"
      ]
     },
     "execution_count": 19,
     "metadata": {},
     "output_type": "execute_result"
    }
   ],
   "source": [
    "model.fit(X,Y,batch_size=2,epochs=75,verbose=1)"
   ]
  },
  {
   "cell_type": "code",
   "execution_count": 20,
   "metadata": {},
   "outputs": [
    {
     "name": "stdout",
     "output_type": "stream",
     "text": [
      "Saved model to disk\n"
     ]
    }
   ],
   "source": [
    "model_json = model.to_json()\n",
    "with open(\"Model/model.json\", \"w\") as json_file:\n",
    "    json_file.write(model_json)\n",
    "# serialize weights to HDF5\n",
    "model.save_weights(\"Model/model.h5\")\n",
    "print(\"Saved model to disk\")"
   ]
  },
  {
   "cell_type": "code",
   "execution_count": 21,
   "metadata": {},
   "outputs": [],
   "source": [
    "def get_prediction(query):\n",
    "    \n",
    "    mat = get_embed_matrix(query)\n",
    "    x = pad_sequences(maxlen=18, sequences=[mat], padding=\"post\", value=vocab.index('PAD'))\n",
    "    ans = np.argmax(model.predict(x)[0])\n",
    "    return action_index_1[ans]"
   ]
  },
  {
   "cell_type": "code",
   "execution_count": 22,
   "metadata": {},
   "outputs": [
    {
     "name": "stdout",
     "output_type": "stream",
     "text": [
      "get_event_date\n"
     ]
    }
   ],
   "source": [
    "print(get_prediction('When is the event?'))"
   ]
  },
  {
   "cell_type": "code",
   "execution_count": 23,
   "metadata": {},
   "outputs": [
    {
     "name": "stdout",
     "output_type": "stream",
     "text": [
      "show_schedule\n"
     ]
    }
   ],
   "source": [
    "print(get_prediction('What is on day 2?'))"
   ]
  },
  {
   "cell_type": "code",
   "execution_count": 24,
   "metadata": {},
   "outputs": [
    {
     "name": "stdout",
     "output_type": "stream",
     "text": [
      "show_food_arrangements\n"
     ]
    }
   ],
   "source": [
    "print(get_prediction('What about the food and stuff?'))"
   ]
  },
  {
   "cell_type": "code",
   "execution_count": 25,
   "metadata": {},
   "outputs": [
    {
     "name": "stdout",
     "output_type": "stream",
     "text": [
      "show_speakers\n"
     ]
    }
   ],
   "source": [
    "print(get_prediction('Show me all the speakers for this event'))"
   ]
  },
  {
   "cell_type": "code",
   "execution_count": 27,
   "metadata": {},
   "outputs": [
    {
     "name": "stdout",
     "output_type": "stream",
     "text": [
      "is_refundable\n"
     ]
    }
   ],
   "source": [
    "print(get_prediction('I want a refund'))"
   ]
  },
  {
   "cell_type": "code",
   "execution_count": 42,
   "metadata": {},
   "outputs": [
    {
     "name": "stdout",
     "output_type": "stream",
     "text": [
      "get_registration_date\n"
     ]
    }
   ],
   "source": [
    "print(get_prediction('When can I sign up?'))"
   ]
  },
  {
   "cell_type": "code",
   "execution_count": 45,
   "metadata": {},
   "outputs": [
    {
     "name": "stdout",
     "output_type": "stream",
     "text": [
      "get_event_date\n"
     ]
    }
   ],
   "source": [
    "print(get_prediction('What time does the event start?'))"
   ]
  },
  {
   "cell_type": "code",
   "execution_count": 46,
   "metadata": {},
   "outputs": [
    {
     "name": "stdout",
     "output_type": "stream",
     "text": [
      "show_speakers\n"
     ]
    }
   ],
   "source": [
    "print(get_prediction('Who are the speakers?'))"
   ]
  },
  {
   "cell_type": "raw",
   "metadata": {},
   "source": [
    "Now, we can code these actions as functions in the backend for it to perform the action."
   ]
  }
 ],
 "metadata": {
  "kernelspec": {
   "display_name": "Python 3",
   "language": "python",
   "name": "python3"
  },
  "language_info": {
   "codemirror_mode": {
    "name": "ipython",
    "version": 3
   },
   "file_extension": ".py",
   "mimetype": "text/x-python",
   "name": "python",
   "nbconvert_exporter": "python",
   "pygments_lexer": "ipython3",
   "version": "3.5.5"
  }
 },
 "nbformat": 4,
 "nbformat_minor": 2
}

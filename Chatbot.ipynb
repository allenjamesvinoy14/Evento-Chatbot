{
 "cells": [
  {
   "cell_type": "markdown",
   "metadata": {},
   "source": [
    "## 1. Preparing Data"
   ]
  },
  {
   "cell_type": "code",
   "execution_count": 1,
   "metadata": {},
   "outputs": [],
   "source": [
    "import pandas as pd\n",
    "import numpy as np\n",
    "import nltk"
   ]
  },
  {
   "cell_type": "code",
   "execution_count": 2,
   "metadata": {},
   "outputs": [],
   "source": [
    "data = pd.read_csv('./data/processed_data.csv')"
   ]
  },
  {
   "cell_type": "code",
   "execution_count": 3,
   "metadata": {},
   "outputs": [
    {
     "data": {
      "text/html": [
       "<div>\n",
       "<style scoped>\n",
       "    .dataframe tbody tr th:only-of-type {\n",
       "        vertical-align: middle;\n",
       "    }\n",
       "\n",
       "    .dataframe tbody tr th {\n",
       "        vertical-align: top;\n",
       "    }\n",
       "\n",
       "    .dataframe thead th {\n",
       "        text-align: right;\n",
       "    }\n",
       "</style>\n",
       "<table border=\"1\" class=\"dataframe\">\n",
       "  <thead>\n",
       "    <tr style=\"text-align: right;\">\n",
       "      <th></th>\n",
       "      <th>Unnamed: 0</th>\n",
       "      <th>Query</th>\n",
       "      <th>Action</th>\n",
       "    </tr>\n",
       "  </thead>\n",
       "  <tbody>\n",
       "    <tr>\n",
       "      <th>0</th>\n",
       "      <td>0</td>\n",
       "      <td>What is the price for the event?</td>\n",
       "      <td>get_event_fees</td>\n",
       "    </tr>\n",
       "    <tr>\n",
       "      <th>1</th>\n",
       "      <td>1</td>\n",
       "      <td>Due to unavoidable reasons I'm unable to atten...</td>\n",
       "      <td>is_refundable</td>\n",
       "    </tr>\n",
       "    <tr>\n",
       "      <th>2</th>\n",
       "      <td>2</td>\n",
       "      <td>When is the deadline to make the payment?</td>\n",
       "      <td>get_registration_date</td>\n",
       "    </tr>\n",
       "    <tr>\n",
       "      <th>3</th>\n",
       "      <td>3</td>\n",
       "      <td>How much does it cost to register for the event?</td>\n",
       "      <td>get_event_fees</td>\n",
       "    </tr>\n",
       "    <tr>\n",
       "      <th>4</th>\n",
       "      <td>4</td>\n",
       "      <td>Do you have any online payment options for the...</td>\n",
       "      <td>get_payment_method</td>\n",
       "    </tr>\n",
       "  </tbody>\n",
       "</table>\n",
       "</div>"
      ],
      "text/plain": [
       "   Unnamed: 0                                              Query  \\\n",
       "0           0                   What is the price for the event?   \n",
       "1           1  Due to unavoidable reasons I'm unable to atten...   \n",
       "2           2          When is the deadline to make the payment?   \n",
       "3           3   How much does it cost to register for the event?   \n",
       "4           4  Do you have any online payment options for the...   \n",
       "\n",
       "                  Action  \n",
       "0         get_event_fees  \n",
       "1          is_refundable  \n",
       "2  get_registration_date  \n",
       "3         get_event_fees  \n",
       "4     get_payment_method  "
      ]
     },
     "execution_count": 3,
     "metadata": {},
     "output_type": "execute_result"
    }
   ],
   "source": [
    "data.head()"
   ]
  },
  {
   "cell_type": "code",
   "execution_count": 4,
   "metadata": {},
   "outputs": [
    {
     "name": "stdout",
     "output_type": "stream",
     "text": [
      "<class 'pandas.core.frame.DataFrame'>\n",
      "RangeIndex: 558 entries, 0 to 557\n",
      "Data columns (total 3 columns):\n",
      "Unnamed: 0    558 non-null int64\n",
      "Query         558 non-null object\n",
      "Action        549 non-null object\n",
      "dtypes: int64(1), object(2)\n",
      "memory usage: 13.2+ KB\n"
     ]
    }
   ],
   "source": [
    "data.info()"
   ]
  },
  {
   "cell_type": "code",
   "execution_count": 5,
   "metadata": {},
   "outputs": [],
   "source": [
    "vocab = []\n",
    "\n",
    "for index,row in data.iterrows():\n",
    "    \n",
    "    tokens = nltk.word_tokenize(row['Query'])\n",
    "    for i in tokens :\n",
    "        \n",
    "        if i not in vocab:\n",
    "            \n",
    "            vocab.append(i)\n",
    "vocab.append('UNK') #Unknown token\n",
    "vocab.append('PAD') #Pad token"
   ]
  },
  {
   "cell_type": "code",
   "execution_count": 6,
   "metadata": {},
   "outputs": [
    {
     "name": "stdout",
     "output_type": "stream",
     "text": [
      "Number of unique tokens: 457\n"
     ]
    }
   ],
   "source": [
    "n_words = len(vocab)\n",
    "print(\"Number of unique tokens: \" + str(n_words))"
   ]
  },
  {
   "cell_type": "code",
   "execution_count": 7,
   "metadata": {},
   "outputs": [],
   "source": [
    "actions = list(data['Action'].unique())"
   ]
  },
  {
   "cell_type": "code",
   "execution_count": 8,
   "metadata": {},
   "outputs": [
    {
     "name": "stdout",
     "output_type": "stream",
     "text": [
      "['get_event_fees', 'is_refundable', 'get_registration_date', 'get_payment_method', 'get_prizes', 'get_discounts', nan, 'show_schedule', 'get_event_date', 'get_event_time', 'get_event_domain', 'show_accomodation', 'show_speakers', 'speaker_details_extra', 'show_speakers_count', 'show_speakers_details', 'show_speaker_details', 'show_food_arrangements', 'show_food_cost', 'show_accomodation_address', 'get_distance', 'show_accomodation_price']\n",
      "Number of unique actions : 22\n"
     ]
    }
   ],
   "source": [
    "print(actions)\n",
    "n_actions = len(actions)\n",
    "print(\"Number of unique actions : \" + str(n_actions))"
   ]
  },
  {
   "cell_type": "code",
   "execution_count": 9,
   "metadata": {},
   "outputs": [],
   "source": [
    "action_index_1 = {}\n",
    "action_index_2 = {}\n",
    "\n",
    "for i,v in enumerate(actions):\n",
    "    action_index_1[i] = v\n",
    "    action_index_2[v] = i"
   ]
  },
  {
   "cell_type": "code",
   "execution_count": 10,
   "metadata": {},
   "outputs": [],
   "source": [
    "def get_categorical_array(action):\n",
    "    \n",
    "    z = np.zeros(n_actions)\n",
    "    z[action_index_2[action]] = 1\n",
    "    \n",
    "    return z"
   ]
  },
  {
   "cell_type": "code",
   "execution_count": 11,
   "metadata": {},
   "outputs": [
    {
     "name": "stdout",
     "output_type": "stream",
     "text": [
      "[0. 1. 0. 0. 0. 0. 0. 0. 0. 0. 0. 0. 0. 0. 0. 0. 0. 0. 0. 0. 0. 0.]\n"
     ]
    }
   ],
   "source": [
    "print(get_categorical_array('is_refundable'))"
   ]
  },
  {
   "cell_type": "code",
<<<<<<< HEAD
   "execution_count": null,
=======
   "execution_count": 12,
>>>>>>> 6f40f1b88d3aeb027b03ce1838ab6bd93c56ff53
   "metadata": {},
   "outputs": [],
   "source": [
    "def get_embed_matrix(sentence):\n",
    "    \n",
    "    embeds = []\n",
    "    tokens = nltk.word_tokenize(sentence)\n",
    "    \n",
    "    for i in tokens:\n",
    "        \n",
    "        if i in vocab:\n",
    "            \n",
    "            n = vocab.index(i)\n",
    "        else :\n",
    "            \n",
    "            n = vocab.index('UNK')\n",
    "        embeds.append(n)\n",
    "    return np.array(embeds)"
   ]
  },
  {
   "cell_type": "code",
   "execution_count": 13,
   "metadata": {},
   "outputs": [
    {
     "name": "stdout",
     "output_type": "stream",
     "text": [
      "[  0 116   1   2   5   6]\n"
     ]
    }
   ],
   "source": [
    "print(get_embed_matrix('What time is the event?'))"
   ]
  },
  {
   "cell_type": "code",
   "execution_count": 14,
   "metadata": {},
   "outputs": [],
   "source": [
    "X = []\n",
    "Y = []\n",
    "\n",
    "for index,row in data.iterrows():\n",
    "    \n",
    "    X.append(get_embed_matrix(row['Query']))\n",
    "    Y.append(get_categorical_array(row['Action']))\n",
    "X = np.array(X)\n",
    "Y = np.array(Y)"
   ]
  },
  {
   "cell_type": "code",
   "execution_count": 15,
   "metadata": {},
   "outputs": [
    {
<<<<<<< HEAD
     "ename": "ImportError",
     "evalue": "No module named 'keras'",
     "traceback": [
      "\u001b[1;31m---------------------------------------------------------------------------\u001b[0m",
      "\u001b[1;31mImportError\u001b[0m                               Traceback (most recent call last)",
      "\u001b[1;32m<ipython-input-73-b76f5ec0cad6>\u001b[0m in \u001b[0;36m<module>\u001b[1;34m()\u001b[0m\n\u001b[1;32m----> 1\u001b[1;33m \u001b[1;32mfrom\u001b[0m \u001b[0mkeras\u001b[0m\u001b[1;33m.\u001b[0m\u001b[0mpreprocessing\u001b[0m\u001b[1;33m.\u001b[0m\u001b[0msequence\u001b[0m \u001b[1;32mimport\u001b[0m \u001b[0mpad_sequences\u001b[0m\u001b[1;33m\u001b[0m\u001b[0m\n\u001b[0m\u001b[0;32m      2\u001b[0m \u001b[0mX\u001b[0m \u001b[1;33m=\u001b[0m \u001b[0mpad_sequences\u001b[0m\u001b[1;33m(\u001b[0m\u001b[0mmaxlen\u001b[0m\u001b[1;33m=\u001b[0m\u001b[1;36m18\u001b[0m\u001b[1;33m,\u001b[0m \u001b[0msequences\u001b[0m\u001b[1;33m=\u001b[0m\u001b[0mX\u001b[0m\u001b[1;33m,\u001b[0m \u001b[0mpadding\u001b[0m\u001b[1;33m=\u001b[0m\u001b[1;34m\"post\"\u001b[0m\u001b[1;33m,\u001b[0m \u001b[0mvalue\u001b[0m\u001b[1;33m=\u001b[0m\u001b[0mvocab\u001b[0m\u001b[1;33m.\u001b[0m\u001b[0mindex\u001b[0m\u001b[1;33m(\u001b[0m\u001b[1;34m'PAD'\u001b[0m\u001b[1;33m)\u001b[0m\u001b[1;33m)\u001b[0m\u001b[1;33m\u001b[0m\u001b[0m\n",
      "\u001b[1;31mImportError\u001b[0m: No module named 'keras'"
     ],
     "output_type": "error"
=======
     "name": "stderr",
     "output_type": "stream",
     "text": [
      "Using TensorFlow backend.\n"
     ]
>>>>>>> 6f40f1b88d3aeb027b03ce1838ab6bd93c56ff53
    }
   ],
   "source": [
    "from keras.preprocessing.sequence import pad_sequences\n",
    "X = pad_sequences(maxlen=18, sequences=X, padding=\"post\", value=vocab.index('PAD'))"
   ]
  },
  {
   "cell_type": "code",
   "execution_count": 16,
   "metadata": {},
   "outputs": [
    {
     "name": "stdout",
     "output_type": "stream",
     "text": [
      "[ 7  8  9 10 11 12 13  8 14  2  5 15 16 11 17 18 19  6]\n",
      "[0. 1. 0. 0. 0. 0. 0. 0. 0. 0. 0. 0. 0. 0. 0. 0. 0. 0. 0. 0. 0. 0.]\n"
     ]
    }
   ],
   "source": [
    "print(X[1])\n",
    "print(Y[1])"
   ]
  },
  {
   "cell_type": "code",
   "execution_count": 17,
   "metadata": {},
   "outputs": [],
   "source": [
    "from sklearn.model_selection import train_test_split\n",
    "\n",
    "x_train, x_test, y_train, y_test = train_test_split(X, Y, test_size=0.1)"
   ]
  },
  {
   "cell_type": "code",
   "execution_count": 18,
   "metadata": {},
   "outputs": [
    {
     "name": "stdout",
     "output_type": "stream",
     "text": [
      "(502, 18) (502, 22)\n",
      "(56, 18) (56, 22)\n"
     ]
    }
   ],
   "source": [
    "print(x_train.shape,y_train.shape)\n",
    "print(x_test.shape,y_test.shape)"
   ]
  },
  {
   "cell_type": "markdown",
   "metadata": {},
   "source": [
    "## 2. Training Model"
   ]
  },
  {
   "cell_type": "code",
   "execution_count": 19,
   "metadata": {},
   "outputs": [],
   "source": [
    "# Uncomment this to load the model if you don't wish to train\n",
    "# Make sure you comment out the training part if you are uncommenting this block\n",
    "\n",
    "# json_file = open('Model/model.json', 'r')\n",
    "# loaded_model_json = json_file.read()\n",
    "# json_file.close()\n",
    "# model = model_from_json(loaded_model_json)\n",
    "# # load weights into new model\n",
    "# model.load_weights(\"Model/model.h5\")\n",
    "# print(\"Loaded model from disk\")"
   ]
  },
  {
   "cell_type": "code",
   "execution_count": 20,
   "metadata": {},
   "outputs": [],
   "source": [
    "from keras.models import Sequential\n",
    "from keras.layers import Dense, Embedding, GRU, Bidirectional"
   ]
  },
  {
   "cell_type": "code",
   "execution_count": 21,
   "metadata": {},
   "outputs": [],
   "source": [
    "model = Sequential()\n",
    "model.add(Embedding(input_dim=n_words, output_dim=10, input_length=18))\n",
    "model.add(Bidirectional(GRU(units=15, recurrent_dropout=0.2)))\n",
    "model.add(Dense(n_actions,activation='softmax'))\n",
    "\n",
    "model.compile(optimizer=\"adam\", loss=\"categorical_crossentropy\", metrics=[\"accuracy\"])"
   ]
  },
  {
   "cell_type": "code",
   "execution_count": 22,
   "metadata": {},
   "outputs": [
    {
     "name": "stdout",
     "output_type": "stream",
     "text": [
      "_________________________________________________________________\n",
      "Layer (type)                 Output Shape              Param #   \n",
      "=================================================================\n",
      "embedding_1 (Embedding)      (None, 18, 10)            4570      \n",
      "_________________________________________________________________\n",
      "bidirectional_1 (Bidirection (None, 30)                2340      \n",
      "_________________________________________________________________\n",
      "dense_1 (Dense)              (None, 22)                682       \n",
      "=================================================================\n",
      "Total params: 7,592\n",
      "Trainable params: 7,592\n",
      "Non-trainable params: 0\n",
      "_________________________________________________________________\n",
      "None\n"
     ]
    }
   ],
   "source": [
    "print(model.summary())"
   ]
  },
  {
   "cell_type": "code",
   "execution_count": 23,
   "metadata": {},
   "outputs": [
    {
     "name": "stdout",
     "output_type": "stream",
     "text": [
      "Epoch 1/75\n",
      "558/558 [==============================] - 7s 12ms/step - loss: 2.9111 - acc: 0.1595\n",
      "Epoch 2/75\n",
      "558/558 [==============================] - 5s 9ms/step - loss: 2.4221 - acc: 0.2760\n",
      "Epoch 3/75\n",
      "558/558 [==============================] - 5s 9ms/step - loss: 1.9449 - acc: 0.4982\n",
      "Epoch 4/75\n",
      "558/558 [==============================] - 5s 9ms/step - loss: 1.5845 - acc: 0.5878\n",
      "Epoch 5/75\n",
      "558/558 [==============================] - 5s 9ms/step - loss: 1.3640 - acc: 0.6147\n",
      "Epoch 6/75\n",
      "558/558 [==============================] - 5s 9ms/step - loss: 1.2064 - acc: 0.6505\n",
      "Epoch 7/75\n",
      "558/558 [==============================] - 5s 9ms/step - loss: 1.0645 - acc: 0.7079\n",
      "Epoch 8/75\n",
      "558/558 [==============================] - 5s 9ms/step - loss: 0.9388 - acc: 0.7634\n",
      "Epoch 9/75\n",
      "558/558 [==============================] - 5s 9ms/step - loss: 0.8409 - acc: 0.7885\n",
      "Epoch 10/75\n",
      "558/558 [==============================] - 5s 9ms/step - loss: 0.7467 - acc: 0.8082\n",
      "Epoch 11/75\n",
      "558/558 [==============================] - 5s 9ms/step - loss: 0.6802 - acc: 0.8674\n",
      "Epoch 12/75\n",
      "558/558 [==============================] - 5s 9ms/step - loss: 0.6040 - acc: 0.8817\n",
      "Epoch 13/75\n",
      "558/558 [==============================] - 5s 9ms/step - loss: 0.5252 - acc: 0.9140\n",
      "Epoch 14/75\n",
      "558/558 [==============================] - 5s 9ms/step - loss: 0.4795 - acc: 0.9176\n",
      "Epoch 15/75\n",
      "558/558 [==============================] - 5s 9ms/step - loss: 0.4326 - acc: 0.9319\n",
      "Epoch 16/75\n",
      "558/558 [==============================] - 5s 9ms/step - loss: 0.3803 - acc: 0.9427\n",
      "Epoch 17/75\n",
      "558/558 [==============================] - 5s 9ms/step - loss: 0.3306 - acc: 0.9516\n",
      "Epoch 18/75\n",
      "558/558 [==============================] - 5s 9ms/step - loss: 0.2970 - acc: 0.9498\n",
      "Epoch 19/75\n",
      "558/558 [==============================] - 5s 9ms/step - loss: 0.2730 - acc: 0.9534\n",
      "Epoch 20/75\n",
      "558/558 [==============================] - 5s 9ms/step - loss: 0.2268 - acc: 0.9606\n",
      "Epoch 21/75\n",
      "558/558 [==============================] - 5s 9ms/step - loss: 0.2107 - acc: 0.9588\n",
      "Epoch 22/75\n",
      "558/558 [==============================] - 5s 9ms/step - loss: 0.1981 - acc: 0.9570\n",
      "Epoch 23/75\n",
      "558/558 [==============================] - 6s 10ms/step - loss: 0.1836 - acc: 0.9570\n",
      "Epoch 24/75\n",
      "558/558 [==============================] - 5s 10ms/step - loss: 0.1469 - acc: 0.9677\n",
      "Epoch 25/75\n",
      "558/558 [==============================] - 5s 8ms/step - loss: 0.1605 - acc: 0.9677\n",
      "Epoch 26/75\n",
      "558/558 [==============================] - 5s 9ms/step - loss: 0.1311 - acc: 0.9785\n",
      "Epoch 27/75\n",
      "558/558 [==============================] - 5s 9ms/step - loss: 0.1270 - acc: 0.9713\n",
      "Epoch 28/75\n",
      "558/558 [==============================] - 5s 9ms/step - loss: 0.1195 - acc: 0.9749\n",
      "Epoch 29/75\n",
      "558/558 [==============================] - 5s 9ms/step - loss: 0.1092 - acc: 0.9857\n",
      "Epoch 30/75\n",
      "558/558 [==============================] - 5s 9ms/step - loss: 0.1073 - acc: 0.9785\n",
      "Epoch 31/75\n",
      "558/558 [==============================] - 5s 9ms/step - loss: 0.0914 - acc: 0.9857\n",
      "Epoch 32/75\n",
      "558/558 [==============================] - 5s 9ms/step - loss: 0.0866 - acc: 0.9875\n",
      "Epoch 33/75\n",
      "558/558 [==============================] - 5s 9ms/step - loss: 0.0713 - acc: 0.9928\n",
      "Epoch 34/75\n",
      "558/558 [==============================] - 5s 9ms/step - loss: 0.0806 - acc: 0.9892\n",
      "Epoch 35/75\n",
      "558/558 [==============================] - 5s 9ms/step - loss: 0.0667 - acc: 0.9910\n",
      "Epoch 36/75\n",
      "558/558 [==============================] - 5s 9ms/step - loss: 0.0694 - acc: 0.9910\n",
      "Epoch 37/75\n",
      "558/558 [==============================] - 5s 9ms/step - loss: 0.0544 - acc: 0.9946\n",
      "Epoch 38/75\n",
      "558/558 [==============================] - 5s 9ms/step - loss: 0.0568 - acc: 0.9910\n",
      "Epoch 39/75\n",
      "558/558 [==============================] - 6s 10ms/step - loss: 0.0562 - acc: 0.9910\n",
      "Epoch 40/75\n",
      "558/558 [==============================] - 5s 9ms/step - loss: 0.0520 - acc: 0.9910\n",
      "Epoch 41/75\n",
      "558/558 [==============================] - 6s 10ms/step - loss: 0.0513 - acc: 0.9946\n",
      "Epoch 42/75\n",
      "558/558 [==============================] - 5s 9ms/step - loss: 0.0588 - acc: 0.9857\n",
      "Epoch 43/75\n",
      "558/558 [==============================] - 5s 8ms/step - loss: 0.0455 - acc: 0.9892\n",
      "Epoch 44/75\n",
      "558/558 [==============================] - 6s 10ms/step - loss: 0.0384 - acc: 0.9946\n",
      "Epoch 45/75\n",
      "558/558 [==============================] - 5s 9ms/step - loss: 0.0409 - acc: 0.9928\n",
      "Epoch 46/75\n",
      "558/558 [==============================] - 5s 9ms/step - loss: 0.0390 - acc: 0.9910\n",
      "Epoch 47/75\n",
      "558/558 [==============================] - 5s 9ms/step - loss: 0.0394 - acc: 0.9910\n",
      "Epoch 48/75\n",
      "558/558 [==============================] - 5s 9ms/step - loss: 0.0345 - acc: 0.9946\n",
      "Epoch 49/75\n",
      "558/558 [==============================] - 6s 10ms/step - loss: 0.0337 - acc: 0.9946\n",
      "Epoch 50/75\n",
      "558/558 [==============================] - 5s 9ms/step - loss: 0.0333 - acc: 0.9946\n",
      "Epoch 51/75\n",
      "558/558 [==============================] - 5s 8ms/step - loss: 0.0364 - acc: 0.9928\n",
      "Epoch 52/75\n",
      "558/558 [==============================] - 5s 8ms/step - loss: 0.0294 - acc: 0.9946\n",
      "Epoch 53/75\n",
      "558/558 [==============================] - 5s 8ms/step - loss: 0.0350 - acc: 0.9964\n",
      "Epoch 54/75\n",
      "558/558 [==============================] - 5s 9ms/step - loss: 0.0270 - acc: 0.9982\n",
      "Epoch 55/75\n",
      "558/558 [==============================] - 5s 8ms/step - loss: 0.0251 - acc: 0.9964\n",
      "Epoch 56/75\n",
      "558/558 [==============================] - 4s 8ms/step - loss: 0.0276 - acc: 0.9946\n",
      "Epoch 57/75\n",
      "558/558 [==============================] - 5s 8ms/step - loss: 0.0201 - acc: 0.9982\n",
      "Epoch 58/75\n",
      "558/558 [==============================] - 5s 8ms/step - loss: 0.0194 - acc: 0.9982\n",
      "Epoch 59/75\n",
      "558/558 [==============================] - 5s 8ms/step - loss: 0.0240 - acc: 0.9946\n",
      "Epoch 60/75\n",
      "558/558 [==============================] - 5s 8ms/step - loss: 0.0173 - acc: 0.9982\n",
      "Epoch 61/75\n",
      "558/558 [==============================] - 5s 9ms/step - loss: 0.0237 - acc: 0.9946\n",
      "Epoch 62/75\n",
      "558/558 [==============================] - 5s 9ms/step - loss: 0.0182 - acc: 0.9964\n",
      "Epoch 63/75\n",
      "558/558 [==============================] - 5s 8ms/step - loss: 0.0212 - acc: 0.9946\n",
      "Epoch 64/75\n",
      "558/558 [==============================] - 5s 8ms/step - loss: 0.0178 - acc: 0.9964\n",
      "Epoch 65/75\n",
      "558/558 [==============================] - 5s 8ms/step - loss: 0.0211 - acc: 0.9946\n",
      "Epoch 66/75\n",
      "558/558 [==============================] - 5s 8ms/step - loss: 0.0141 - acc: 0.9982\n",
      "Epoch 67/75\n",
      "558/558 [==============================] - 5s 8ms/step - loss: 0.0133 - acc: 0.9982\n",
      "Epoch 68/75\n",
      "558/558 [==============================] - 6s 11ms/step - loss: 0.0167 - acc: 0.9964\n",
      "Epoch 69/75\n",
      "558/558 [==============================] - 5s 9ms/step - loss: 0.0173 - acc: 0.9964\n",
      "Epoch 70/75\n",
      "558/558 [==============================] - 5s 9ms/step - loss: 0.0149 - acc: 0.9946\n",
      "Epoch 71/75\n",
      "558/558 [==============================] - 6s 10ms/step - loss: 0.0122 - acc: 0.9982\n",
      "Epoch 72/75\n",
      "558/558 [==============================] - 6s 10ms/step - loss: 0.0129 - acc: 0.9964\n",
      "Epoch 73/75\n",
      "558/558 [==============================] - 5s 8ms/step - loss: 0.0097 - acc: 1.0000\n",
      "Epoch 74/75\n",
      "558/558 [==============================] - 5s 8ms/step - loss: 0.0136 - acc: 0.9964\n",
      "Epoch 75/75\n",
      "558/558 [==============================] - 6s 10ms/step - loss: 0.0080 - acc: 1.0000\n"
     ]
    },
    {
     "data": {
      "text/plain": [
       "<keras.callbacks.History at 0x7f1850ad51d0>"
      ]
     },
     "execution_count": 23,
     "metadata": {},
     "output_type": "execute_result"
    }
   ],
   "source": [
    "model.fit(X,Y,batch_size=4,epochs=75,verbose=1)"
   ]
  },
  {
   "cell_type": "code",
   "execution_count": 25,
   "metadata": {},
   "outputs": [
    {
     "name": "stdout",
     "output_type": "stream",
     "text": [
      "56/56 [==============================] - 0s 4ms/step\n",
      "score: 0.00\n",
      "acc: 1.00\n"
     ]
    }
   ],
   "source": [
    "score,acc = model.evaluate(x_test,y_test, verbose = 1, batch_size = 4)\n",
    "print(\"score: %.2f\" % (score))\n",
    "print(\"acc: %.2f\" % (acc))"
   ]
  },
  {
   "cell_type": "code",
   "execution_count": 26,
   "metadata": {},
   "outputs": [
    {
     "name": "stdout",
     "output_type": "stream",
     "text": [
      "Saved model to disk\n"
     ]
    }
   ],
   "source": [
    "model_json = model.to_json()\n",
    "with open(\"Model/model.json\", \"w\") as json_file:\n",
    "    json_file.write(model_json)\n",
    "# serialize weights to HDF5\n",
    "model.save_weights(\"Model/model.h5\")\n",
    "print(\"Saved model to disk\")"
   ]
  },
  {
   "cell_type": "code",
   "execution_count": 27,
   "metadata": {},
   "outputs": [],
   "source": [
    "def get_prediction(query):\n",
    "    \n",
    "    mat = get_embed_matrix(query)\n",
    "    x = pad_sequences(maxlen=18, sequences=[mat], padding=\"post\", value=vocab.index('PAD'))\n",
    "    ans = np.argmax(model.predict(x)[0])\n",
    "    return action_index_1[ans]"
   ]
  },
  {
   "cell_type": "code",
   "execution_count": 28,
   "metadata": {},
   "outputs": [
    {
     "name": "stdout",
     "output_type": "stream",
     "text": [
      "get_event_date\n"
     ]
    }
   ],
   "source": [
    "print(get_prediction('When is the event?'))"
   ]
  },
  {
   "cell_type": "code",
   "execution_count": 29,
   "metadata": {},
   "outputs": [
    {
     "name": "stdout",
     "output_type": "stream",
     "text": [
      "show_schedule\n"
     ]
    }
   ],
   "source": [
    "print(get_prediction('What is on day 2?'))"
   ]
  },
  {
   "cell_type": "code",
   "execution_count": 30,
   "metadata": {},
   "outputs": [
    {
     "name": "stdout",
     "output_type": "stream",
     "text": [
      "get_event_time\n"
     ]
    }
   ],
   "source": [
    "print(get_prediction('What about the food and stuff?'))"
   ]
  },
  {
   "cell_type": "code",
   "execution_count": 31,
   "metadata": {},
   "outputs": [
    {
     "name": "stdout",
     "output_type": "stream",
     "text": [
      "show_speakers\n"
     ]
    }
   ],
   "source": [
    "print(get_prediction('Show me all the speakers for this event'))"
   ]
  },
  {
   "cell_type": "code",
   "execution_count": 32,
   "metadata": {},
   "outputs": [
    {
     "name": "stdout",
     "output_type": "stream",
     "text": [
      "is_refundable\n"
     ]
    }
   ],
   "source": [
    "print(get_prediction('I want a refund'))"
   ]
  },
  {
   "cell_type": "code",
   "execution_count": 33,
   "metadata": {},
   "outputs": [
    {
     "name": "stdout",
     "output_type": "stream",
     "text": [
      "get_event_date\n"
     ]
    }
   ],
   "source": [
    "print(get_prediction('When can I sign up?'))"
   ]
  },
  {
   "cell_type": "code",
   "execution_count": 34,
   "metadata": {},
   "outputs": [
    {
     "name": "stdout",
     "output_type": "stream",
     "text": [
      "get_event_time\n"
     ]
    }
   ],
   "source": [
    "print(get_prediction('What time does the event start?'))"
   ]
  },
  {
   "cell_type": "code",
   "execution_count": 35,
   "metadata": {},
   "outputs": [
    {
     "name": "stdout",
     "output_type": "stream",
     "text": [
      "show_speakers\n"
     ]
    }
   ],
   "source": [
    "print(get_prediction('Who are the speakers?'))"
   ]
  },
  {
   "cell_type": "raw",
   "metadata": {},
   "source": [
    "Now, we can code these actions as functions in the backend for it to perform the action."
   ]
  }
 ],
 "metadata": {
  "kernelspec": {
   "display_name": "Python 3",
   "language": "python",
   "name": "python3"
  },
  "language_info": {
   "codemirror_mode": {
    "name": "ipython",
    "version": 3
   },
   "file_extension": ".py",
   "mimetype": "text/x-python",
   "name": "python",
   "nbconvert_exporter": "python",
   "pygments_lexer": "ipython3",
   "version": "3.6.6"
  }
 },
 "nbformat": 4,
 "nbformat_minor": 2
}

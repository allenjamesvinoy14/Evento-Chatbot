{
 "cells": [
  {
   "cell_type": "markdown",
   "metadata": {},
   "source": [
    "## 1. Preparing Data"
   ]
  },
  {
   "cell_type": "code",
   "execution_count": 1,
   "metadata": {},
   "outputs": [
    {
     "name": "stderr",
     "output_type": "stream",
     "text": [
      "Using TensorFlow backend.\n"
     ]
    }
   ],
   "source": [
    "import pandas as pd\n",
    "import numpy as np\n",
    "import nltk\n",
    "from keras.preprocessing.sequence import pad_sequences"
   ]
  },
  {
   "cell_type": "code",
   "execution_count": 2,
   "metadata": {},
   "outputs": [],
   "source": [
    "data = pd.read_csv('./data/data.csv')"
   ]
  },
  {
   "cell_type": "code",
   "execution_count": 3,
   "metadata": {},
   "outputs": [
    {
     "data": {
      "text/html": [
       "<div>\n",
       "<style scoped>\n",
       "    .dataframe tbody tr th:only-of-type {\n",
       "        vertical-align: middle;\n",
       "    }\n",
       "\n",
       "    .dataframe tbody tr th {\n",
       "        vertical-align: top;\n",
       "    }\n",
       "\n",
       "    .dataframe thead th {\n",
       "        text-align: right;\n",
       "    }\n",
       "</style>\n",
       "<table border=\"1\" class=\"dataframe\">\n",
       "  <thead>\n",
       "    <tr style=\"text-align: right;\">\n",
       "      <th></th>\n",
       "      <th>Unnamed: 0</th>\n",
       "      <th>Query</th>\n",
       "      <th>Action</th>\n",
       "    </tr>\n",
       "  </thead>\n",
       "  <tbody>\n",
       "    <tr>\n",
       "      <th>0</th>\n",
       "      <td>0</td>\n",
       "      <td>what is the price for the event</td>\n",
       "      <td>get_event_fees</td>\n",
       "    </tr>\n",
       "    <tr>\n",
       "      <th>1</th>\n",
       "      <td>1</td>\n",
       "      <td>due to unavoidable reasons i unable to attend ...</td>\n",
       "      <td>is_refundable</td>\n",
       "    </tr>\n",
       "    <tr>\n",
       "      <th>2</th>\n",
       "      <td>2</td>\n",
       "      <td>when is the deadline to make the payment</td>\n",
       "      <td>get_registration_date</td>\n",
       "    </tr>\n",
       "    <tr>\n",
       "      <th>3</th>\n",
       "      <td>3</td>\n",
       "      <td>how much does it cost to register for the event</td>\n",
       "      <td>get_event_fees</td>\n",
       "    </tr>\n",
       "    <tr>\n",
       "      <th>4</th>\n",
       "      <td>4</td>\n",
       "      <td>do you have any online payment options for the...</td>\n",
       "      <td>get_payment_method</td>\n",
       "    </tr>\n",
       "  </tbody>\n",
       "</table>\n",
       "</div>"
      ],
      "text/plain": [
       "   Unnamed: 0                                              Query  \\\n",
       "0           0                    what is the price for the event   \n",
       "1           1  due to unavoidable reasons i unable to attend ...   \n",
       "2           2           when is the deadline to make the payment   \n",
       "3           3    how much does it cost to register for the event   \n",
       "4           4  do you have any online payment options for the...   \n",
       "\n",
       "                  Action  \n",
       "0         get_event_fees  \n",
       "1          is_refundable  \n",
       "2  get_registration_date  \n",
       "3         get_event_fees  \n",
       "4     get_payment_method  "
      ]
     },
     "execution_count": 3,
     "metadata": {},
     "output_type": "execute_result"
    }
   ],
   "source": [
    "data.head()"
   ]
  },
  {
   "cell_type": "code",
   "execution_count": 4,
   "metadata": {},
   "outputs": [],
   "source": [
    "vocab = []\n",
    "for index,row in data.iterrows():\n",
    "    tokens = nltk.word_tokenize(row['Query'])\n",
    "    for i in tokens:\n",
    "        if not i in vocab:\n",
    "            vocab.append(i)\n",
    "vocab.append('UNK')\n",
    "vocab.append('PAD')"
   ]
  },
  {
   "cell_type": "code",
   "execution_count": 5,
   "metadata": {},
   "outputs": [
    {
     "name": "stdout",
     "output_type": "stream",
     "text": [
      "Number of unique tokens: 394\n"
     ]
    }
   ],
   "source": [
    "n_words = len(vocab)\n",
    "print(\"Number of unique tokens: \" + str(n_words))"
   ]
  },
  {
   "cell_type": "code",
   "execution_count": 6,
   "metadata": {},
   "outputs": [],
   "source": [
    "actions = list(data['Action'].unique())"
   ]
  },
  {
   "cell_type": "code",
   "execution_count": 7,
   "metadata": {},
   "outputs": [
    {
     "name": "stdout",
     "output_type": "stream",
     "text": [
      "['get_event_fees', 'is_refundable', 'get_registration_date', 'get_payment_method', 'get_prizes', 'get_discounts', 'greet', 'show_schedule', 'get_event_date', 'get_event_time', 'show_accomodation', 'show_speakers', 'speaker_details_extra', 'show_food_arrangements', 'get_distance', 'get_location', 'show_contact_info', 'about_chatbot']\n",
      "Number of unique actions : 18\n"
     ]
    }
   ],
   "source": [
    "print(actions)\n",
    "n_actions = len(actions)\n",
    "print(\"Number of unique actions : \" + str(n_actions))"
   ]
  },
  {
   "cell_type": "code",
   "execution_count": 8,
   "metadata": {},
   "outputs": [
    {
     "name": "stdout",
     "output_type": "stream",
     "text": [
      "<class 'pandas.core.frame.DataFrame'>\n",
      "RangeIndex: 516 entries, 0 to 515\n",
      "Data columns (total 3 columns):\n",
      "Unnamed: 0    516 non-null int64\n",
      "Query         516 non-null object\n",
      "Action        516 non-null object\n",
      "dtypes: int64(1), object(2)\n",
      "memory usage: 12.2+ KB\n"
     ]
    }
   ],
   "source": [
    "data.info()"
   ]
  },
  {
   "cell_type": "code",
   "execution_count": 9,
   "metadata": {},
   "outputs": [],
   "source": [
    "action_index_1 = {}\n",
    "action_index_2 = {}\n",
    "\n",
    "for i,v in enumerate(actions):\n",
    "    action_index_1[i] = v\n",
    "    action_index_2[v] = i"
   ]
  },
  {
   "cell_type": "code",
   "execution_count": 10,
   "metadata": {},
   "outputs": [],
   "source": [
    "def get_index_matrix(sentence):\n",
    "    matrix = []\n",
    "    w = nltk.word_tokenize(sentence)\n",
    "    for i in w:\n",
    "        if i in vocab:\n",
    "            matrix.append(vocab.index(i))\n",
    "        else :\n",
    "            matrix.append(vocab.index('UNK'))\n",
    "    x = pad_sequences(maxlen=18, sequences=[matrix], padding=\"post\", value=vocab.index('PAD'))\n",
    "    return x[0]"
   ]
  },
  {
   "cell_type": "code",
   "execution_count": 11,
   "metadata": {},
   "outputs": [],
   "source": [
    "def get_categorical_array(action):\n",
    "    \n",
    "    z = np.zeros(n_actions)\n",
    "    z[action_index_2[action]] = 1\n",
    "    \n",
    "    return z"
   ]
  },
  {
   "cell_type": "code",
   "execution_count": 12,
   "metadata": {},
   "outputs": [
    {
     "name": "stdout",
     "output_type": "stream",
     "text": [
      "[0. 1. 0. 0. 0. 0. 0. 0. 0. 0. 0. 0. 0. 0. 0. 0. 0. 0.]\n"
     ]
    }
   ],
   "source": [
    "print(get_categorical_array('is_refundable'))"
   ]
  },
  {
   "cell_type": "code",
   "execution_count": 13,
   "metadata": {},
   "outputs": [],
   "source": [
    "X = []\n",
    "Y = []\n",
    "\n",
    "for index,row in data.iterrows():\n",
    "    \n",
    "    X.append(get_index_matrix(row['Query']))\n",
    "    Y.append(get_categorical_array(row['Action']))\n",
    "X = np.array(X)\n",
    "Y = np.array(Y)"
   ]
  },
  {
   "cell_type": "code",
   "execution_count": 14,
   "metadata": {},
   "outputs": [
    {
     "name": "stdout",
     "output_type": "stream",
     "text": [
      "(516, 18)\n",
      "(516, 18)\n"
     ]
    }
   ],
   "source": [
    "print(X.shape)\n",
    "print(Y.shape)"
   ]
  },
  {
   "cell_type": "code",
   "execution_count": 15,
   "metadata": {},
   "outputs": [],
   "source": [
    "from sklearn.model_selection import train_test_split\n",
    "\n",
    "x_train, x_test, y_train, y_test = train_test_split(X, Y, test_size=0.05)"
   ]
  },
  {
   "cell_type": "code",
   "execution_count": 16,
   "metadata": {},
   "outputs": [
    {
     "name": "stdout",
     "output_type": "stream",
     "text": [
      "(490, 18) (490, 18)\n",
      "(26, 18) (26, 18)\n"
     ]
    }
   ],
   "source": [
    "print(x_train.shape,y_train.shape)\n",
    "print(x_test.shape,y_test.shape)"
   ]
  },
  {
   "cell_type": "markdown",
   "metadata": {},
   "source": [
    "## 2. Training Model"
   ]
  },
  {
   "cell_type": "code",
   "execution_count": 17,
   "metadata": {},
   "outputs": [],
   "source": [
    "# Uncomment this to load the model if you don't wish to train\n",
    "# Make sure you comment out the training part if you are uncommenting this block\n",
    "\n",
    "# json_file = open('Model/model.json', 'r')\n",
    "# loaded_model_json = json_file.read()\n",
    "# json_file.close()\n",
    "# model = model_from_json(loaded_model_json)\n",
    "# # load weights into new model\n",
    "# model.load_weights(\"Model/model.h5\")\n",
    "# print(\"Loaded model from disk\")"
   ]
  },
  {
   "cell_type": "code",
   "execution_count": 18,
   "metadata": {},
   "outputs": [],
   "source": [
    "from keras.models import Sequential\n",
    "from keras.layers import Dense, Embedding, LSTM, Bidirectional"
   ]
  },
  {
   "cell_type": "code",
   "execution_count": 19,
   "metadata": {},
   "outputs": [],
   "source": [
    "model = Sequential()\n",
    "model.add(Embedding(input_dim=n_words,output_dim=15,input_length=18))\n",
    "model.add(Bidirectional(LSTM(units=20)))\n",
    "model.add(Dense(n_actions,activation='softmax'))\n",
    "model.compile(optimizer=\"adam\", loss=\"categorical_crossentropy\", metrics=[\"accuracy\"])"
   ]
  },
  {
   "cell_type": "code",
   "execution_count": 20,
   "metadata": {},
   "outputs": [
    {
     "name": "stdout",
     "output_type": "stream",
     "text": [
      "_________________________________________________________________\n",
      "Layer (type)                 Output Shape              Param #   \n",
      "=================================================================\n",
      "embedding_1 (Embedding)      (None, 18, 15)            5910      \n",
      "_________________________________________________________________\n",
      "bidirectional_1 (Bidirection (None, 40)                5760      \n",
      "_________________________________________________________________\n",
      "dense_1 (Dense)              (None, 18)                738       \n",
      "=================================================================\n",
      "Total params: 12,408\n",
      "Trainable params: 12,408\n",
      "Non-trainable params: 0\n",
      "_________________________________________________________________\n",
      "None\n"
     ]
    }
   ],
   "source": [
    "print(model.summary())"
   ]
  },
  {
   "cell_type": "code",
   "execution_count": 23,
   "metadata": {},
   "outputs": [
    {
     "name": "stdout",
     "output_type": "stream",
     "text": [
      "Epoch 1/15\n",
      "516/516 [==============================] - 10s 19ms/step - loss: 0.1925 - acc: 0.9496\n",
      "Epoch 2/15\n",
      "516/516 [==============================] - 10s 19ms/step - loss: 0.1721 - acc: 0.9535\n",
      "Epoch 3/15\n",
      "516/516 [==============================] - 10s 19ms/step - loss: 0.1551 - acc: 0.9554\n",
      "Epoch 4/15\n",
      "516/516 [==============================] - 11s 21ms/step - loss: 0.1486 - acc: 0.9651\n",
      "Epoch 5/15\n",
      "516/516 [==============================] - 11s 20ms/step - loss: 0.1262 - acc: 0.9671\n",
      "Epoch 6/15\n",
      "516/516 [==============================] - 10s 19ms/step - loss: 0.1191 - acc: 0.9671\n",
      "Epoch 7/15\n",
      "516/516 [==============================] - 10s 19ms/step - loss: 0.1051 - acc: 0.9729\n",
      "Epoch 8/15\n",
      "516/516 [==============================] - 10s 19ms/step - loss: 0.1174 - acc: 0.9690\n",
      "Epoch 9/15\n",
      "516/516 [==============================] - 10s 19ms/step - loss: 0.1023 - acc: 0.9748\n",
      "Epoch 10/15\n",
      "516/516 [==============================] - 10s 19ms/step - loss: 0.0856 - acc: 0.9787\n",
      "Epoch 11/15\n",
      "516/516 [==============================] - 10s 20ms/step - loss: 0.0856 - acc: 0.9748\n",
      "Epoch 12/15\n",
      "516/516 [==============================] - 10s 19ms/step - loss: 0.0768 - acc: 0.9787\n",
      "Epoch 13/15\n",
      "516/516 [==============================] - 10s 20ms/step - loss: 0.0741 - acc: 0.9709\n",
      "Epoch 14/15\n",
      "516/516 [==============================] - 10s 20ms/step - loss: 0.0638 - acc: 0.9767\n",
      "Epoch 15/15\n",
      "516/516 [==============================] - 10s 20ms/step - loss: 0.0653 - acc: 0.9806\n"
     ]
    },
    {
     "data": {
      "text/plain": [
       "<keras.callbacks.History at 0x7fc3102c56d8>"
      ]
     },
     "execution_count": 23,
     "metadata": {},
     "output_type": "execute_result"
    }
   ],
   "source": [
    "model.fit(X,Y,batch_size=2,epochs=15,verbose=1)"
   ]
  },
  {
   "cell_type": "code",
   "execution_count": 24,
   "metadata": {},
   "outputs": [
    {
     "name": "stdout",
     "output_type": "stream",
     "text": [
      "26/26 [==============================] - 0s 10ms/step\n",
      "score: 0.04\n",
      "acc: 1.00\n"
     ]
    }
   ],
   "source": [
    "score,acc = model.evaluate(x_test,y_test, verbose = 1, batch_size = 2)\n",
    "print(\"score: %.2f\" % (score))\n",
    "print(\"acc: %.2f\" % (acc))"
   ]
  },
  {
   "cell_type": "code",
   "execution_count": 25,
   "metadata": {},
   "outputs": [
    {
     "name": "stdout",
     "output_type": "stream",
     "text": [
      "Saved model to disk\n"
     ]
    }
   ],
   "source": [
    "model_json = model.to_json()\n",
    "with open(\"Model/model.json\", \"w\") as json_file:\n",
    "    json_file.write(model_json)\n",
    "# serialize weights to HDF5\n",
    "model.save_weights(\"Model/model.h5\")\n",
    "print(\"Saved model to disk\")"
   ]
  }
 ],
 "metadata": {
  "kernelspec": {
   "display_name": "Python 3",
   "language": "python",
   "name": "python3"
  },
  "language_info": {
   "codemirror_mode": {
    "name": "ipython",
    "version": 3
   },
   "file_extension": ".py",
   "mimetype": "text/x-python",
   "name": "python",
   "nbconvert_exporter": "python",
   "pygments_lexer": "ipython3",
   "version": "3.6.6"
  }
 },
 "nbformat": 4,
 "nbformat_minor": 2
}

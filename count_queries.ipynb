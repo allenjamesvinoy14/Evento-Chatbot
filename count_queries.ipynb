{
 "cells": [
  {
   "cell_type": "code",
   "execution_count": 1,
   "metadata": {},
   "outputs": [],
   "source": [
    "import pandas as pd\n",
    "import numpy as np"
   ]
  },
  {
   "cell_type": "code",
   "execution_count": 2,
   "metadata": {},
   "outputs": [],
   "source": [
    "data = pd.read_csv('./data/data.csv')"
   ]
  },
  {
   "cell_type": "code",
   "execution_count": 3,
   "metadata": {},
   "outputs": [],
   "source": [
    "data = data.reset_index()"
   ]
  },
  {
   "cell_type": "code",
   "execution_count": 4,
   "metadata": {},
   "outputs": [],
   "source": [
    "data = data[['Action','Query']]"
   ]
  },
  {
   "cell_type": "code",
   "execution_count": 5,
   "metadata": {},
   "outputs": [],
   "source": [
    "count = {}"
   ]
  },
  {
   "cell_type": "code",
   "execution_count": 6,
   "metadata": {},
   "outputs": [],
   "source": [
    "for index,row in data.iterrows():\n",
    "    if row['Action'] in count.keys():\n",
    "        count[row['Action']] += 1\n",
    "    else :\n",
    "        count[row['Action']] = 1"
   ]
  },
  {
   "cell_type": "code",
   "execution_count": 7,
   "metadata": {},
   "outputs": [
    {
     "name": "stdout",
     "output_type": "stream",
     "text": [
      "get_event_fees:0\n",
      "is_refundable:0\n",
      "get_registration_date:-2\n",
      "get_payment_method:0\n",
      "get_prizes:16\n",
      "get_discounts:17\n",
      "greet:13\n",
      "show_schedule:14\n",
      "get_event_date:-3\n",
      "get_event_time:26\n",
      "show_accomodation:-3\n",
      "show_speakers:0\n",
      "speaker_details_extra:24\n",
      "show_food_arrangements:-1\n",
      "get_distance:31\n",
      "get_location:29\n",
      "show_contact_info:20\n",
      "about_chatbot:23\n"
     ]
    }
   ],
   "source": [
    "for k,v in count.items():\n",
    "    print(k +\":\" +str(40 - v))"
   ]
  },
  {
   "cell_type": "code",
   "execution_count": null,
   "metadata": {},
   "outputs": [],
   "source": []
  }
 ],
 "metadata": {
  "kernelspec": {
   "display_name": "Python 3",
   "language": "python",
   "name": "python3"
  },
  "language_info": {
   "codemirror_mode": {
    "name": "ipython",
    "version": 3
   },
   "file_extension": ".py",
   "mimetype": "text/x-python",
   "name": "python",
   "nbconvert_exporter": "python",
   "pygments_lexer": "ipython3",
   "version": "3.6.6"
  }
 },
 "nbformat": 4,
 "nbformat_minor": 2
}

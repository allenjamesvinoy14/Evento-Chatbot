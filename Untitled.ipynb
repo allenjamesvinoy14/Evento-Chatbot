{
 "cells": [
  {
   "cell_type": "code",
   "execution_count": 1,
   "metadata": {},
   "outputs": [],
   "source": [
    "import pandas as pd"
   ]
  },
  {
   "cell_type": "code",
   "execution_count": 3,
   "metadata": {},
   "outputs": [],
   "source": [
    "data = pd.read_csv('./data/data.csv')"
   ]
  },
  {
   "cell_type": "code",
   "execution_count": 4,
   "metadata": {},
   "outputs": [
    {
     "data": {
      "text/html": [
       "<div>\n",
       "<style scoped>\n",
       "    .dataframe tbody tr th:only-of-type {\n",
       "        vertical-align: middle;\n",
       "    }\n",
       "\n",
       "    .dataframe tbody tr th {\n",
       "        vertical-align: top;\n",
       "    }\n",
       "\n",
       "    .dataframe thead th {\n",
       "        text-align: right;\n",
       "    }\n",
       "</style>\n",
       "<table border=\"1\" class=\"dataframe\">\n",
       "  <thead>\n",
       "    <tr style=\"text-align: right;\">\n",
       "      <th></th>\n",
       "      <th>Unnamed: 0</th>\n",
       "      <th>Unnamed: 0.1</th>\n",
       "      <th>Query</th>\n",
       "      <th>Action</th>\n",
       "    </tr>\n",
       "  </thead>\n",
       "  <tbody>\n",
       "    <tr>\n",
       "      <th>0</th>\n",
       "      <td>0</td>\n",
       "      <td>0</td>\n",
       "      <td>What is the price for the event?</td>\n",
       "      <td>get_event_fees</td>\n",
       "    </tr>\n",
       "    <tr>\n",
       "      <th>1</th>\n",
       "      <td>1</td>\n",
       "      <td>1</td>\n",
       "      <td>Due to unavoidable reasons I'm unable to atten...</td>\n",
       "      <td>is_refundable</td>\n",
       "    </tr>\n",
       "    <tr>\n",
       "      <th>2</th>\n",
       "      <td>2</td>\n",
       "      <td>2</td>\n",
       "      <td>When is the deadline to make the payment?</td>\n",
       "      <td>get_registration_date</td>\n",
       "    </tr>\n",
       "    <tr>\n",
       "      <th>3</th>\n",
       "      <td>3</td>\n",
       "      <td>3</td>\n",
       "      <td>How much does it cost to register for the event?</td>\n",
       "      <td>get_event_fees</td>\n",
       "    </tr>\n",
       "    <tr>\n",
       "      <th>4</th>\n",
       "      <td>4</td>\n",
       "      <td>4</td>\n",
       "      <td>Do you have any online payment options for the...</td>\n",
       "      <td>get_payment_method</td>\n",
       "    </tr>\n",
       "  </tbody>\n",
       "</table>\n",
       "</div>"
      ],
      "text/plain": [
       "   Unnamed: 0  Unnamed: 0.1  \\\n",
       "0           0             0   \n",
       "1           1             1   \n",
       "2           2             2   \n",
       "3           3             3   \n",
       "4           4             4   \n",
       "\n",
       "                                               Query                 Action  \n",
       "0                   What is the price for the event?         get_event_fees  \n",
       "1  Due to unavoidable reasons I'm unable to atten...          is_refundable  \n",
       "2          When is the deadline to make the payment?  get_registration_date  \n",
       "3   How much does it cost to register for the event?         get_event_fees  \n",
       "4  Do you have any online payment options for the...     get_payment_method  "
      ]
     },
     "execution_count": 4,
     "metadata": {},
     "output_type": "execute_result"
    }
   ],
   "source": [
    "data.head()"
   ]
  },
  {
   "cell_type": "code",
   "execution_count": 5,
   "metadata": {},
   "outputs": [],
   "source": [
    "counts = {}"
   ]
  },
  {
   "cell_type": "code",
   "execution_count": 6,
   "metadata": {},
   "outputs": [],
   "source": [
    "for index,row in data.iterrows():\n",
    "    if row['Action'] in counts.keys():\n",
    "        counts[row['Action']] += 1\n",
    "    else :\n",
    "        counts[row['Action']] = 1"
   ]
  },
  {
   "cell_type": "code",
   "execution_count": 9,
   "metadata": {},
   "outputs": [
    {
     "name": "stdout",
     "output_type": "stream",
     "text": [
      "get_event_fees:12\n",
      "is_refundable:21\n",
      "get_registration_date:12\n",
      "get_payment_method:17\n",
      "get_prizes:14\n",
      "get_discounts:13\n",
      "greet:25\n",
      "show_schedule:21\n",
      "get_event_date:7\n",
      "get_event_time:8\n",
      "show_accomodation:28\n",
      "show_speakers:19\n",
      "speaker_details_extra:15\n",
      "show_food_arrangements:22\n",
      "show_food_cost:8\n",
      "show_accomodation_address:5\n",
      "get_distance:8\n",
      "show_accomodation_price:4\n",
      "Others:17\n",
      "get_location:10\n",
      "show_contact_info:4\n",
      "about_chatbot:12\n"
     ]
    }
   ],
   "source": [
    "for i in counts.keys():\n",
    "    print(i + \":\" + str(counts[i]))"
   ]
  },
  {
   "cell_type": "code",
   "execution_count": null,
   "metadata": {},
   "outputs": [],
   "source": []
  }
 ],
 "metadata": {
  "kernelspec": {
   "display_name": "Python 3",
   "language": "python",
   "name": "python3"
  },
  "language_info": {
   "codemirror_mode": {
    "name": "ipython",
    "version": 3
   },
   "file_extension": ".py",
   "mimetype": "text/x-python",
   "name": "python",
   "nbconvert_exporter": "python",
   "pygments_lexer": "ipython3",
   "version": "3.6.6"
  }
 },
 "nbformat": 4,
 "nbformat_minor": 2
}
